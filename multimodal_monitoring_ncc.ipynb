{
 "cells": [
  {
   "cell_type": "markdown",
   "metadata": {},
   "source": [
    "# Multimodal Monitoring in Neurocritical Care"
   ]
  },
  {
   "cell_type": "markdown",
   "metadata": {},
   "source": [
    "## Ideas"
   ]
  },
  {
   "cell_type": "markdown",
   "metadata": {},
   "source": [
    "Combine data from cEEG, ICP, PbtO2, IABP, EtCO2\n",
    "Based on physiological models of neurovascular coupling (NVC), cerebral autoregulation (CAR), and CO2R (CO2 reactivity).\n",
    "PbtO2 could be the surrogte marker for outcome. \n",
    "Need robust outcome data (eGOS). \n",
    "Need a model such as MRC-CRASH to assess baseline characteristics.\n",
    "\n",
    "cEEG - 10-D colour-space (akin to astronomy), e.g. alpha-beta, beta-gamma, gamma-delta, delta-theta, alpha-gamma, alpha-delta, alpha-theta, beta-delta, beta-theta, gamma-theta; create a data cube with time as the third axis.\n",
    "Compare data at a single time point, and data over time. \n",
    "\n",
    "For CAR - use PRx, and ?waveform analysis\n",
    "?waveform analysis of cEEG."
   ]
  },
  {
   "cell_type": "markdown",
   "metadata": {},
   "source": [
    "## Data Analysis"
   ]
  },
  {
   "cell_type": "markdown",
   "metadata": {},
   "source": [
    "python\n",
    "scipy\n",
    "scikit-learn\n",
    "\n",
    "data storage as fits of hd5"
   ]
  },
  {
   "cell_type": "code",
   "execution_count": null,
   "metadata": {},
   "outputs": [],
   "source": []
  }
 ],
 "metadata": {
  "kernelspec": {
   "display_name": "Python 3",
   "language": "python",
   "name": "python3"
  },
  "language_info": {
   "codemirror_mode": {
    "name": "ipython",
    "version": 3
   },
   "file_extension": ".py",
   "mimetype": "text/x-python",
   "name": "python",
   "nbconvert_exporter": "python",
   "pygments_lexer": "ipython3",
   "version": "3.6.4"
  }
 },
 "nbformat": 4,
 "nbformat_minor": 2
}
